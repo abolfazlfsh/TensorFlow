{
    "cells": [
        {
            "cell_type": "code",
            "execution_count": 2,
            "metadata": {},
            "outputs": [
                {
                    "data": {
                        "text/plain": "lastException = null\n"
                    },
                    "metadata": {},
                    "output_type": "display_data"
                },
                {
                    "ename": "java.lang.NoSuchMethodError",
                    "evalue": "scala/Predef$.refArrayOps([Ljava/lang/Object;)Lscala/collection/mutable/ArrayOps; (loaded from file:/opt/ibm/spark/jars/scala-library-2.12.10.jar by sun.misc.Launcher$AppClassLoader@a95e4e9a) called from class com.ibm.ibmos2spark.CloudObjectStorage (loaded from file:/opt/ibm/image-libs/spark2/ibmos2spark_2.11-0.0.9.jar by sun.misc.Launcher$AppClassLoader@a95e4e9a).",
                    "output_type": "error",
                    "traceback": [
                        "  at com.ibm.ibmos2spark.CloudObjectStorage._validate_credentials(Osconfig.scala:211)",
                        "  at com.ibm.ibmos2spark.CloudObjectStorage.<init>(Osconfig.scala:169)"
                    ]
                }
            ],
            "source": "// The code was removed by Watson Studio for sharing."
        },
        {
            "cell_type": "code",
            "execution_count": null,
            "metadata": {},
            "outputs": [],
            "source": ""
        }
    ],
    "metadata": {
        "kernelspec": {
            "display_name": "Scala 2.11 with Spark",
            "language": "scala",
            "name": "scala"
        },
        "language_info": {
            "codemirror_mode": "text/x-scala",
            "file_extension": ".scala",
            "mimetype": "text/x-scala",
            "name": "scala",
            "pygments_lexer": "scala",
            "version": "2.12.12"
        }
    },
    "nbformat": 4,
    "nbformat_minor": 1
}